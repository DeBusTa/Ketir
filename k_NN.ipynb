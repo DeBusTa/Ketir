{
  "nbformat": 4,
  "nbformat_minor": 0,
  "metadata": {
    "colab": {
      "name": "k-NN.ipynb",
      "provenance": [],
      "collapsed_sections": [],
      "authorship_tag": "ABX9TyO3eEck7qxe41ZeQbj1YN1k",
      "include_colab_link": true
    },
    "kernelspec": {
      "name": "python3",
      "display_name": "Python 3"
    }
  },
  "cells": [
    {
      "cell_type": "markdown",
      "metadata": {
        "id": "view-in-github",
        "colab_type": "text"
      },
      "source": [
        "<a href=\"https://colab.research.google.com/github/DeBusTa/Ketir/blob/main/k_NN.ipynb\" target=\"_parent\"><img src=\"https://colab.research.google.com/assets/colab-badge.svg\" alt=\"Open In Colab\"/></a>"
      ]
    },
    {
      "cell_type": "code",
      "metadata": {
        "id": "jtb7bKMopQnP"
      },
      "source": [
        "# pandas library dataframe\r\n",
        "import pandas as pd\r\n",
        "\r\n",
        "# numpy untuk array, range number, algabar linear, dll\r\n",
        "import numpy as np\r\n",
        "\r\n",
        "# visualisasi grafik\r\n",
        "import matplotlib.pyplot as plt\r\n",
        "\r\n",
        "# library untuk KNN\r\n",
        "from sklearn.neighbors import KNeighborsClassifier\r\n",
        "\r\n",
        "# untuk split data train dan test\r\n",
        "from sklearn.model_selection import train_test_split"
      ],
      "execution_count": 1,
      "outputs": []
    },
    {
      "cell_type": "code",
      "metadata": {
        "id": "Lcmax1VhpebV"
      },
      "source": [
        "# read data csv ke data frame\r\n",
        "df = pd.read_csv('breasttissue.csv')"
      ],
      "execution_count": 2,
      "outputs": []
    },
    {
      "cell_type": "code",
      "metadata": {
        "id": "fXfDDU8jpiT3"
      },
      "source": [
        "# menghilangkan kolom case\r\n",
        "df = df.drop(columns=['Case #'])"
      ],
      "execution_count": 3,
      "outputs": []
    },
    {
      "cell_type": "code",
      "metadata": {
        "id": "h8To9ae6plaF"
      },
      "source": [
        "# membagi data terikat (y) dan data bebas (x)\r\n",
        "x = df.loc[:, df.columns != 'Class']\r\n",
        "y = df['Class']"
      ],
      "execution_count": 4,
      "outputs": []
    },
    {
      "cell_type": "code",
      "metadata": {
        "id": "9bco4hedp-iS"
      },
      "source": [
        "# variabel train test, test menjadi 20% / 0.2\r\n",
        "X_train, X_test, y_train, y_test = train_test_split(x, y, test_size=0.2, random_state=42)"
      ],
      "execution_count": 5,
      "outputs": []
    },
    {
      "cell_type": "code",
      "metadata": {
        "id": "75Td6vjDrsEY"
      },
      "source": [
        "# neighbours array dari 1 sampai 9\r\n",
        "neighbors = np.arange(1,9)\r\n",
        "\r\n",
        "# membuat array kosong dengan panjang 9\r\n",
        "train_accuracy =np.empty(len(neighbors))\r\n",
        "test_accuracy = np.empty(len(neighbors))\r\n",
        "\r\n",
        "# for untuk looping panjang dari neighbours\r\n",
        "for i,k in enumerate(neighbors):\r\n",
        "    #Setup a knn classifier with k neighbors\r\n",
        "    knn = KNeighborsClassifier(n_neighbors=k)\r\n",
        "    #Fit the model\r\n",
        "    knn.fit(X_train, y_train)\r\n",
        "    \r\n",
        "    #Compute accuracy on the training set\r\n",
        "    train_accuracy[i] = knn.score(X_train, y_train)\r\n",
        "    \r\n",
        "    #Compute accuracy on the test set\r\n",
        "    test_accuracy[i] = knn.score(X_test, y_test) "
      ],
      "execution_count": 6,
      "outputs": []
    },
    {
      "cell_type": "code",
      "metadata": {
        "id": "8QxC2yGSr7HA",
        "colab": {
          "base_uri": "https://localhost:8080/",
          "height": 295
        },
        "outputId": "603c783a-d96c-4959-883e-b0bb89f98627"
      },
      "source": [
        "# Membuat grafik\r\n",
        "plt.title('k-NN Varying number of neighbors')\r\n",
        "plt.plot(neighbors, test_accuracy, label='Testing Accuracy')\r\n",
        "plt.plot(neighbors, train_accuracy, label='Training accuracy')\r\n",
        "plt.legend()\r\n",
        "plt.xlabel('Number of neighbors')\r\n",
        "plt.ylabel('Accuracy')\r\n",
        "plt.show()"
      ],
      "execution_count": 7,
      "outputs": [
        {
          "output_type": "display_data",
          "data": {
            "image/png": "[encoded data removed]",
            "text/plain": [
              "<Figure size 432x288 with 1 Axes>"
            ]
          },
          "metadata": {
            "tags": [],
            "needs_background": "light"
          }
        }
      ]
    },
    {
      "cell_type": "code",
      "metadata": {
        "id": "xTeI3fHRur_K",
        "colab": {
          "base_uri": "https://localhost:8080/"
        },
        "outputId": "a253b5c1-c973-4b83-8bf1-ccb588c32c9f"
      },
      "source": [
        "# menginisiasi objek dengan hyperparameter 4\r\n",
        "knn = KNeighborsClassifier(n_neighbors=4)\r\n",
        "    \r\n",
        "# meng train algoritma knn hyperparameter 4\r\n",
        "knn.fit(X_train, y_train)\r\n",
        "knn.score(X_test,y_test)"
      ],
      "execution_count": 8,
      "outputs": [
        {
          "output_type": "execute_result",
          "data": {
            "text/plain": [
              "0.7272727272727273"
            ]
          },
          "metadata": {
            "tags": []
          },
          "execution_count": 8
        }
      ]
    },
    {
      "cell_type": "code",
      "metadata": {
        "colab": {
          "base_uri": "https://localhost:8080/"
        },
        "id": "zEwRKpwy1iRH",
        "outputId": "8b126505-9e53-4509-b718-a124a8620b1a"
      },
      "source": [
        "# kolom untuk variabel independen/bebas/predictor\r\n",
        "x.columns.values"
      ],
      "execution_count": 9,
      "outputs": [
        {
          "output_type": "execute_result",
          "data": {
            "text/plain": [
              "array(['I0', 'PA500', 'HFS', 'DA', 'Area', 'A/DA', 'Max IP', 'DR', 'P'],\n",
              "      dtype=object)"
            ]
          },
          "metadata": {
            "tags": []
          },
          "execution_count": 9
        }
      ]
    },
    {
      "cell_type": "code",
      "metadata": {
        "id": "j8WhZii92AUx"
      },
      "source": [
        "# input variabel perumpamaan\r\n",
        "# input  = [[0, 1.1, 10, 0, 1.1, 1.1, 1.1, 1.1, 200]]\r\n",
        "input  = [[0.3 for i in range(9)]]"
      ],
      "execution_count": 10,
      "outputs": []
    },
    {
      "cell_type": "code",
      "metadata": {
        "id": "dD1_lHrKqbwJ",
        "colab": {
          "base_uri": "https://localhost:8080/"
        },
        "outputId": "fa7826d0-d8ff-41a5-c052-f6e166391a71"
      },
      "source": [
        "# Hasil dari keyakinan model\r\n",
        "# np.nanmax(knn.predict_proba(input))\r\n",
        "knn.predict_proba(input)"
      ],
      "execution_count": 11,
      "outputs": [
        {
          "output_type": "execute_result",
          "data": {
            "text/plain": [
              "array([[0.  , 0.  , 0.  , 0.25, 0.5 , 0.25]])"
            ]
          },
          "metadata": {
            "tags": []
          },
          "execution_count": 11
        }
      ]
    },
    {
      "cell_type": "code",
      "metadata": {
        "id": "SeAGCykhuKMM",
        "colab": {
          "base_uri": "https://localhost:8080/"
        },
        "outputId": "a656dfd3-6a2a-4b23-a46a-689dde59237f"
      },
      "source": [
        "# Output dari keyakinan model\r\n",
        "knn.predict(input)"
      ],
      "execution_count": 12,
      "outputs": [
        {
          "output_type": "execute_result",
          "data": {
            "text/plain": [
              "array(['gla'], dtype=object)"
            ]
          },
          "metadata": {
            "tags": []
          },
          "execution_count": 12
        }
      ]
    },
    {
      "cell_type": "code",
      "metadata": {
        "colab": {
          "base_uri": "https://localhost:8080/",
          "height": 294
        },
        "id": "qbdqDCfn1tKt",
        "outputId": "ef058a6e-738a-4bf9-a4b4-a12104239b70"
      },
      "source": [
        "# Tambahan deskripsi\r\n",
        "df.describe()"
      ],
      "execution_count": 13,
      "outputs": [
        {
          "output_type": "execute_result",
          "data": {
            "text/html": [
              "<div>\n",
              "<style scoped>\n",
              "    .dataframe tbody tr th:only-of-type {\n",
              "        vertical-align: middle;\n",
              "    }\n",
              "\n",
              "    .dataframe tbody tr th {\n",
              "        vertical-align: top;\n",
              "    }\n",
              "\n",
              "    .dataframe thead th {\n",
              "        text-align: right;\n",
              "    }\n",
              "</style>\n",
              "<table border=\"1\" class=\"dataframe\">\n",
              "  <thead>\n",
              "    <tr style=\"text-align: right;\">\n",
              "      <th></th>\n",
              "      <th>I0</th>\n",
              "      <th>PA500</th>\n",
              "      <th>HFS</th>\n",
              "      <th>DA</th>\n",
              "      <th>Area</th>\n",
              "      <th>A/DA</th>\n",
              "      <th>Max IP</th>\n",
              "      <th>DR</th>\n",
              "      <th>P</th>\n",
              "    </tr>\n",
              "  </thead>\n",
              "  <tbody>\n",
              "    <tr>\n",
              "      <th>count</th>\n",
              "      <td>106.000000</td>\n",
              "      <td>106.000000</td>\n",
              "      <td>106.000000</td>\n",
              "      <td>106.000000</td>\n",
              "      <td>106.000000</td>\n",
              "      <td>106.000000</td>\n",
              "      <td>106.000000</td>\n",
              "      <td>106.000000</td>\n",
              "      <td>106.000000</td>\n",
              "    </tr>\n",
              "    <tr>\n",
              "      <th>mean</th>\n",
              "      <td>784.251618</td>\n",
              "      <td>0.120133</td>\n",
              "      <td>0.114691</td>\n",
              "      <td>190.568642</td>\n",
              "      <td>7335.155161</td>\n",
              "      <td>23.473784</td>\n",
              "      <td>75.381258</td>\n",
              "      <td>166.710575</td>\n",
              "      <td>810.638127</td>\n",
              "    </tr>\n",
              "    <tr>\n",
              "      <th>std</th>\n",
              "      <td>753.950075</td>\n",
              "      <td>0.068596</td>\n",
              "      <td>0.101347</td>\n",
              "      <td>190.801448</td>\n",
              "      <td>18580.314212</td>\n",
              "      <td>23.354672</td>\n",
              "      <td>81.345838</td>\n",
              "      <td>181.309580</td>\n",
              "      <td>763.019135</td>\n",
              "    </tr>\n",
              "    <tr>\n",
              "      <th>min</th>\n",
              "      <td>103.000000</td>\n",
              "      <td>0.012392</td>\n",
              "      <td>-0.066323</td>\n",
              "      <td>19.647670</td>\n",
              "      <td>70.426239</td>\n",
              "      <td>1.595742</td>\n",
              "      <td>7.968783</td>\n",
              "      <td>-9.257696</td>\n",
              "      <td>124.978561</td>\n",
              "    </tr>\n",
              "    <tr>\n",
              "      <th>25%</th>\n",
              "      <td>250.000000</td>\n",
              "      <td>0.067413</td>\n",
              "      <td>0.043982</td>\n",
              "      <td>53.845470</td>\n",
              "      <td>409.647141</td>\n",
              "      <td>8.180321</td>\n",
              "      <td>26.893773</td>\n",
              "      <td>41.781258</td>\n",
              "      <td>270.215238</td>\n",
              "    </tr>\n",
              "    <tr>\n",
              "      <th>50%</th>\n",
              "      <td>384.936489</td>\n",
              "      <td>0.105418</td>\n",
              "      <td>0.086568</td>\n",
              "      <td>120.777303</td>\n",
              "      <td>2219.581163</td>\n",
              "      <td>16.133657</td>\n",
              "      <td>44.216040</td>\n",
              "      <td>97.832557</td>\n",
              "      <td>454.108153</td>\n",
              "    </tr>\n",
              "    <tr>\n",
              "      <th>75%</th>\n",
              "      <td>1487.989626</td>\n",
              "      <td>0.169602</td>\n",
              "      <td>0.166504</td>\n",
              "      <td>255.334809</td>\n",
              "      <td>7615.204968</td>\n",
              "      <td>30.953294</td>\n",
              "      <td>83.671755</td>\n",
              "      <td>232.990070</td>\n",
              "      <td>1301.559438</td>\n",
              "    </tr>\n",
              "    <tr>\n",
              "      <th>max</th>\n",
              "      <td>2800.000000</td>\n",
              "      <td>0.358316</td>\n",
              "      <td>0.467748</td>\n",
              "      <td>1063.441427</td>\n",
              "      <td>174480.476200</td>\n",
              "      <td>164.071543</td>\n",
              "      <td>436.099640</td>\n",
              "      <td>977.552367</td>\n",
              "      <td>2896.582483</td>\n",
              "    </tr>\n",
              "  </tbody>\n",
              "</table>\n",
              "</div>"
            ],
            "text/plain": [
              "                I0       PA500         HFS  ...      Max IP          DR            P\n",
              "count   106.000000  106.000000  106.000000  ...  106.000000  106.000000   106.000000\n",
              "mean    784.251618    0.120133    0.114691  ...   75.381258  166.710575   810.638127\n",
              "std     753.950075    0.068596    0.101347  ...   81.345838  181.309580   763.019135\n",
              "min     103.000000    0.012392   -0.066323  ...    7.968783   -9.257696   124.978561\n",
              "25%     250.000000    0.067413    0.043982  ...   26.893773   41.781258   270.215238\n",
              "50%     384.936489    0.105418    0.086568  ...   44.216040   97.832557   454.108153\n",
              "75%    1487.989626    0.169602    0.166504  ...   83.671755  232.990070  1301.559438\n",
              "max    2800.000000    0.358316    0.467748  ...  436.099640  977.552367  2896.582483\n",
              "\n",
              "[8 rows x 9 columns]"
            ]
          },
          "metadata": {
            "tags": []
          },
          "execution_count": 13
        }
      ]
    },
    {
      "cell_type": "code",
      "metadata": {
        "id": "-YTwMQN_3Cho"
      },
      "source": [
        ""
      ],
      "execution_count": 13,
      "outputs": []
    }
  ]
}